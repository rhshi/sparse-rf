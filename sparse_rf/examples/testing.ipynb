{
 "cells": [
  {
   "cell_type": "code",
   "execution_count": 12,
   "metadata": {},
   "outputs": [],
   "source": [
    "import numpy as np \n",
    "import matplotlib.pyplot as plt \n",
    "from sparse_rf.util.algs import min_l1, min_l2, min_wl2\n",
    "from sparse_rf.modules import make_X, make_W, make_A\n",
    "from sparse_rf.util.dists import *\n",
    "from sparse_rf.util.activations import *"
   ]
  },
  {
   "cell_type": "code",
   "execution_count": 13,
   "metadata": {},
   "outputs": [],
   "source": [
    "m = 1000\n",
    "n = 1000\n",
    "d = 5\n",
    "q = 2\n",
    "\n",
    "ratio_train = 0.75"
   ]
  },
  {
   "cell_type": "code",
   "execution_count": 70,
   "metadata": {},
   "outputs": [],
   "source": [
    "X = make_X(d, m, dist=uniform)\n",
    "W = make_W(d, q, n, dist=normal)\n",
    "X_train = X[:int(m*ratio_train), :]\n",
    "X_test = X[int(m*ratio_train):, :]\n",
    "\n",
    "A_train = make_A(X_train, W, active=fourier)\n",
    "A_test = make_A(X_train, W, active=fourier)\n"
   ]
  },
  {
   "cell_type": "code",
   "execution_count": 71,
   "metadata": {},
   "outputs": [],
   "source": [
    "y = (1+np.linalg.norm(X, axis=-1))**(-0.5)\n",
    "y_train = y[:int(m*ratio_train)]\n",
    "y_test = y[int(m*ratio_train):]"
   ]
  },
  {
   "cell_type": "code",
   "execution_count": 16,
   "metadata": {},
   "outputs": [
    {
     "output_type": "stream",
     "name": "stderr",
     "text": [
      "Linesearch failed with error 1. Damping max BB scaling to 10000.0\n",
      "Linesearch failed with error 1. Damping max BB scaling to 1000.0\n",
      "Linesearch failed with error 1. Damping max BB scaling to 100.0\n",
      "Linesearch failed with error 1. Damping max BB scaling to 10.0\n",
      "Linesearch failed with error 1. Damping max BB scaling to 1.0\n",
      "Linesearch failed with error 1. Damping max BB scaling to 0.1\n",
      "Linesearch failed with error 1. Damping max BB scaling to 0.01\n",
      "Linesearch failed with error 1. Damping max BB scaling to 0.001\n",
      "Linesearch failed with error 1. Damping max BB scaling to 0.0001\n"
     ]
    }
   ],
   "source": [
    "# L1\n",
    "c_spgl1 = min_l1(A_train, y_train)"
   ]
  },
  {
   "cell_type": "code",
   "execution_count": 22,
   "metadata": {},
   "outputs": [
    {
     "output_type": "execute_result",
     "data": {
      "text/plain": [
       "100.0"
      ]
     },
     "metadata": {},
     "execution_count": 22
    }
   ],
   "source": [
    "ind_spgl1, = c_spgl1.nonzero()\n",
    "100*len(ind_spgl1) / A_train.shape[1]"
   ]
  },
  {
   "cell_type": "code",
   "execution_count": 23,
   "metadata": {},
   "outputs": [],
   "source": [
    "y_train_spgl1 = np.matmul(A_train, c_spgl1)\n",
    "error_train_spgl1 = np.linalg.norm(y_train - y_train_spgl1)/ len(y_train)\n",
    "y_test_spgl1 = np.matmul(A_test, c_spgl1)\n",
    "error_test_spgl1 = np.linalg.norm(y_test - y_test_spgl1)/ len(y_test)"
   ]
  },
  {
   "cell_type": "code",
   "execution_count": 24,
   "metadata": {},
   "outputs": [
    {
     "output_type": "stream",
     "name": "stdout",
     "text": [
      "0.00021935164621569836\n0.00031382363419825795\n"
     ]
    }
   ],
   "source": [
    "print(error_train_spgl1)\n",
    "print(error_test_spgl1)"
   ]
  },
  {
   "cell_type": "code",
   "execution_count": 25,
   "metadata": {},
   "outputs": [],
   "source": [
    "c_l2 = min_l2(A_train, y_train)"
   ]
  },
  {
   "cell_type": "code",
   "execution_count": 26,
   "metadata": {},
   "outputs": [],
   "source": [
    "y_train_l2 = np.matmul(A_train, c_l2)\n",
    "error_train_l2 = np.linalg.norm(y_train - y_train_l2)/ len(y_train)\n",
    "y_test_l2 = np.matmul(A_test, c_l2)\n",
    "error_test_l2 = np.linalg.norm(y_test - y_test_l2)/len(y_test)"
   ]
  },
  {
   "cell_type": "code",
   "execution_count": 27,
   "metadata": {},
   "outputs": [
    {
     "output_type": "stream",
     "name": "stdout",
     "text": [
      "2.1776917698379615e-09\n0.020086426528168406\n"
     ]
    }
   ],
   "source": [
    "print(error_train_l2)\n",
    "print(error_test_l2)"
   ]
  },
  {
   "cell_type": "code",
   "execution_count": 28,
   "metadata": {},
   "outputs": [],
   "source": [
    "# weights for weighted min-norm solution\n",
    "norm = np.linalg.norm(W, axis=1)**2\n",
    "weight = np.concatenate((norm, norm), axis=-1)\n",
    "D = np.diag(1.0/weight**4)\n",
    "c_weighted = min_wl2(A_train, y_train, D)"
   ]
  },
  {
   "cell_type": "code",
   "execution_count": 29,
   "metadata": {},
   "outputs": [],
   "source": [
    "y_train_weighted = np.matmul(A_train, c_weighted)\n",
    "error_train_weighted = np.linalg.norm(y_train - y_train_weighted)/ len(y_train)\n",
    "y_test_weighted = np.matmul(A_test, c_weighted)\n",
    "error_test_weighted = np.linalg.norm(y_test - y_test_weighted)/len(y_test)"
   ]
  },
  {
   "cell_type": "code",
   "execution_count": 30,
   "metadata": {},
   "outputs": [
    {
     "output_type": "stream",
     "name": "stdout",
     "text": [
      "0.00024789605677552786\n0.00036169557372791694\n"
     ]
    }
   ],
   "source": [
    "print(error_train_weighted)\n",
    "print(error_test_weighted)"
   ]
  },
  {
   "source": [
    "## Ensemble"
   ],
   "cell_type": "markdown",
   "metadata": {}
  },
  {
   "cell_type": "code",
   "execution_count": 36,
   "metadata": {},
   "outputs": [],
   "source": [
    "def make_D(W):\n",
    "    norm = np.linalg.norm(W, axis=1)**2\n",
    "    weight = np.concatenate((norm, norm), axis=-1)\n",
    "    D = np.diag(1.0/weight**4)\n",
    "    return D"
   ]
  },
  {
   "cell_type": "code",
   "execution_count": 136,
   "metadata": {},
   "outputs": [],
   "source": [
    "Ws = [make_W(d, q, 1, dist=normal) for _ in range(n)]\n",
    "Ds = [make_D(W) for W in Ws]\n",
    "A_trains = [make_A(X_train, W, active=fourier) for W in Ws]\n",
    "A_tests = [make_A(X_test, W, active=fourier) for W in Ws]"
   ]
  },
  {
   "cell_type": "code",
   "execution_count": 137,
   "metadata": {},
   "outputs": [],
   "source": [
    "cs = [min_wl2(A_train, y_train, D) for A_train, D in zip(A_trains, Ds)]"
   ]
  },
  {
   "cell_type": "code",
   "execution_count": 138,
   "metadata": {},
   "outputs": [],
   "source": [
    "y_test_ensemble = np.mean(np.array([A_tests[i]@cs[i] for i in range(len(Ws))]), axis=0)"
   ]
  },
  {
   "cell_type": "code",
   "execution_count": 139,
   "metadata": {},
   "outputs": [
    {
     "output_type": "execute_result",
     "data": {
      "text/plain": [
       "0.0008945644782262514"
      ]
     },
     "metadata": {},
     "execution_count": 139
    }
   ],
   "source": [
    "np.linalg.norm(y_test_ensemble-y_test) / len(y_test)"
   ]
  },
  {
   "cell_type": "code",
   "execution_count": null,
   "metadata": {},
   "outputs": [],
   "source": []
  }
 ],
 "metadata": {
  "kernelspec": {
   "name": "python385jvsc74a57bd07ac5c24e02f6a8832496ecca29b7c43ee29c65657a2960576885920670584734",
   "display_name": "Python 3.8.5 64-bit ('base': conda)"
  },
  "language_info": {
   "codemirror_mode": {
    "name": "ipython",
    "version": 3
   },
   "file_extension": ".py",
   "mimetype": "text/x-python",
   "name": "python",
   "nbconvert_exporter": "python",
   "pygments_lexer": "ipython3",
   "version": "3.8.5"
  }
 },
 "nbformat": 4,
 "nbformat_minor": 4
}