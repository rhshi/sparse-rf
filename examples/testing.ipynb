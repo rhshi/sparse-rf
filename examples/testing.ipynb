{
 "cells": [
  {
   "cell_type": "code",
   "execution_count": 1,
   "metadata": {},
   "outputs": [],
   "source": [
    "import numpy as np \n",
    "import matplotlib.pyplot as plt \n",
    "from sparse_rf.algs.core import min_wl2, min_l2, min_l1\n",
    "from sparse_rf.modules import make_X, make_W, make_A\n",
    "from sparse_rf.util import *\n",
    "from sparse_rf.util.fns import *\n",
    "from functools import partial\n",
    "import random\n",
    "import gc"
   ]
  },
  {
   "cell_type": "code",
   "execution_count": 31,
   "metadata": {},
   "outputs": [],
   "source": [
    "m = 1000\n",
    "d = 10\n",
    "q = 2\n",
    "N = 10000\n",
    "active = fourier\n",
    "\n",
    "ratio_train = 0.7"
   ]
  },
  {
   "cell_type": "code",
   "execution_count": 32,
   "metadata": {},
   "outputs": [],
   "source": [
    "X = make_X(d, m, dist=uniform)\n",
    "X_train = X[:int(m*ratio_train), :]\n",
    "X_test = X[int(m*ratio_train):, :]\n",
    "\n",
    "y = np.array(list(map(fn18, X)))\n",
    "y_train = y[:int(m*ratio_train)]\n",
    "y_test = y[int(m*ratio_train):]"
   ]
  },
  {
   "cell_type": "code",
   "execution_count": 41,
   "metadata": {},
   "outputs": [],
   "source": [
    "W = make_W(d, q, N=N, dist=partial(normal, stdev=1))\n",
    "A_train = make_A(X_train, W, active=active)\n",
    "A_test = make_A(X_test, W, active=active)"
   ]
  },
  {
   "cell_type": "code",
   "execution_count": 42,
   "metadata": {},
   "outputs": [
    {
     "output_type": "stream",
     "name": "stderr",
     "text": [
      "Linesearch failed with error 1. Damping max BB scaling to 10000.0\n",
      "Linesearch failed with error 1. Damping max BB scaling to 1000.0\n",
      "Linesearch failed with error 1. Damping max BB scaling to 100.0\n",
      "Linesearch failed with error 1. Damping max BB scaling to 10.0\n",
      "Linesearch failed with error 1. Damping max BB scaling to 1.0\n",
      "Linesearch failed with error 1. Damping max BB scaling to 0.1\n",
      "Linesearch failed with error 1. Damping max BB scaling to 0.01\n",
      "Linesearch failed with error 1. Damping max BB scaling to 0.001\n",
      "Linesearch failed with error 1. Damping max BB scaling to 0.0001\n"
     ]
    }
   ],
   "source": [
    "c_l1 = min_l1(A_train, y_train, sigma=0)\n",
    "c_l2 = min_l2(A_train, y_train)"
   ]
  },
  {
   "cell_type": "code",
   "execution_count": 43,
   "metadata": {},
   "outputs": [
    {
     "output_type": "execute_result",
     "data": {
      "text/plain": [
       "0.8531371807602468"
      ]
     },
     "metadata": {},
     "execution_count": 43
    }
   ],
   "source": [
    "np.linalg.norm(A_test@c_l1-y_test)/ np.linalg.norm(y_test)"
   ]
  },
  {
   "cell_type": "code",
   "execution_count": 44,
   "metadata": {},
   "outputs": [
    {
     "output_type": "execute_result",
     "data": {
      "text/plain": [
       "1.000512322359302"
      ]
     },
     "metadata": {},
     "execution_count": 44
    }
   ],
   "source": [
    "np.linalg.norm(A_test@c_l2-y_test)/ np.linalg.norm(y_test)"
   ]
  },
  {
   "cell_type": "code",
   "execution_count": null,
   "metadata": {},
   "outputs": [],
   "source": []
  }
 ],
 "metadata": {
  "kernelspec": {
   "name": "python385jvsc74a57bd07ac5c24e02f6a8832496ecca29b7c43ee29c65657a2960576885920670584734",
   "display_name": "Python 3.8.5 64-bit ('base': conda)"
  },
  "language_info": {
   "codemirror_mode": {
    "name": "ipython",
    "version": 3
   },
   "file_extension": ".py",
   "mimetype": "text/x-python",
   "name": "python",
   "nbconvert_exporter": "python",
   "pygments_lexer": "ipython3",
   "version": "3.8.5"
  }
 },
 "nbformat": 4,
 "nbformat_minor": 4
}