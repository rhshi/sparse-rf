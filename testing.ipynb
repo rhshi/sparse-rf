{
 "cells": [
  {
   "cell_type": "code",
   "execution_count": 34,
   "metadata": {},
   "outputs": [],
   "source": [
    "import numpy as np \n",
    "import matplotlib.pyplot as plt \n",
    "from spgl1 import spg_bpdn\n",
    "from util.fns import *\n",
    "from util.util import *\n",
    "from util.dists import *\n",
    "from util.activations import *"
   ]
  },
  {
   "cell_type": "code",
   "execution_count": 21,
   "metadata": {},
   "outputs": [],
   "source": [
    "m = 1000\n",
    "N = 10000\n",
    "d = 5\n",
    "\n",
    "ratio_train = 0.75\n",
    "q = 2\n",
    "normalize = False"
   ]
  },
  {
   "cell_type": "code",
   "execution_count": 29,
   "metadata": {},
   "outputs": [],
   "source": [
    "X = make_X(d, m, dist=uniform)\n",
    "W = make_W(d, N, q, dist=normal)\n",
    "A = make_A(X, W, active=fourier)\n"
   ]
  },
  {
   "cell_type": "code",
   "execution_count": 30,
   "metadata": {},
   "outputs": [],
   "source": [
    "y = (1+np.linalg.norm(X, axis=-1))**(-0.5)\n",
    "A_train = A[:int(m*ratio_train), :]\n",
    "A_test = A[int(m*ratio_train):, :]\n",
    "y_train = y[:int(m*ratio_train)]\n",
    "y_test = y[int(m*ratio_train):]"
   ]
  },
  {
   "cell_type": "code",
   "execution_count": 47,
   "metadata": {},
   "outputs": [
    {
     "output_type": "stream",
     "name": "stderr",
     "text": [
      "Linesearch failed with error 1. Damping max BB scaling to 10000.0\n",
      "Linesearch failed with error 1. Damping max BB scaling to 1000.0\n",
      "Linesearch failed with error 1. Damping max BB scaling to 100.0\n",
      "Linesearch failed with error 1. Damping max BB scaling to 10.0\n",
      "Linesearch failed with error 1. Damping max BB scaling to 1.0\n",
      "Linesearch failed with error 1. Damping max BB scaling to 0.1\n",
      "Linesearch failed with error 1. Damping max BB scaling to 0.01\n",
      "Linesearch failed with error 1. Damping max BB scaling to 0.001\n",
      "Linesearch failed with error 1. Damping max BB scaling to 0.0001\n"
     ]
    }
   ],
   "source": [
    "# L1\n",
    "c_spgl1, _, _, _ = spg_bpdn(A_train, y_train, sigma=0.1)"
   ]
  },
  {
   "cell_type": "code",
   "execution_count": 48,
   "metadata": {},
   "outputs": [
    {
     "output_type": "stream",
     "name": "stdout",
     "text": [
      "\nPercentage of nonzero entries in the coefficient using SPGL1 100.0\n"
     ]
    }
   ],
   "source": [
    "ind_spgl1, = c_spgl1.nonzero()\n",
    "print('\\nPercentage of nonzero entries in the coefficient using SPGL1', 100*ind_spgl1.shape[0]/(2*N))"
   ]
  },
  {
   "cell_type": "code",
   "execution_count": 56,
   "metadata": {},
   "outputs": [],
   "source": [
    "y_train_spgl1 = np.matmul(A_train, c_spgl1)\n",
    "error_train_spgl1 = np.linalg.norm(y_train - y_train_spgl1)/ (m*ratio_train)\n",
    "y_test_spgl1 = np.matmul(A_test, c_spgl1)\n",
    "error_test_spgl1 = np.linalg.norm(y_test - y_test_spgl1)/(m*(1-ratio_train))"
   ]
  },
  {
   "cell_type": "code",
   "execution_count": 58,
   "metadata": {},
   "outputs": [
    {
     "output_type": "stream",
     "name": "stdout",
     "text": [
      "0.00014667722993347924\n0.00024757928064329815\n"
     ]
    }
   ],
   "source": [
    "print(error_train_spgl1)\n",
    "print(error_test_spgl1)"
   ]
  },
  {
   "cell_type": "code",
   "execution_count": 54,
   "metadata": {},
   "outputs": [],
   "source": [
    "c_l2 = np.linalg.pinv(A_train)@y_train"
   ]
  },
  {
   "cell_type": "code",
   "execution_count": 60,
   "metadata": {},
   "outputs": [],
   "source": [
    "y_train_l2 = np.matmul(A_train, c_l2)\n",
    "error_train_l2 = np.linalg.norm(y_train - y_train_l2)/ (m*ratio_train)\n",
    "y_test_l2 = np.matmul(A_test, c_l2)\n",
    "error_test_l2 = np.linalg.norm(y_test - y_test_l2)/(m*(1-ratio_train))"
   ]
  },
  {
   "cell_type": "code",
   "execution_count": 61,
   "metadata": {},
   "outputs": [
    {
     "output_type": "stream",
     "name": "stdout",
     "text": [
      "1.296374699354099e-09\n0.005362244852238697\n"
     ]
    }
   ],
   "source": [
    "print(error_train_l2)\n",
    "print(error_test_l2)"
   ]
  },
  {
   "cell_type": "code",
   "execution_count": 66,
   "metadata": {},
   "outputs": [],
   "source": [
    "# weights for weighted min-norm solution\n",
    "norm = np.linalg.norm(W, axis=1)**2\n",
    "weight = np.concatenate((norm, norm), axis=-1)\n",
    "D = np.diag(1.0/weight**4)\n",
    "c_weighted = D@np.linalg.pinv(A_train@D)@y_train"
   ]
  },
  {
   "cell_type": "code",
   "execution_count": 67,
   "metadata": {},
   "outputs": [],
   "source": [
    "y_train_weighted = np.matmul(A_train, c_weighted)\n",
    "error_train_weighted = np.linalg.norm(y_train - y_train_weighted)/ (m*ratio_train)\n",
    "y_test_weighted = np.matmul(A_test, c_weighted)\n",
    "error_test_weighted = np.linalg.norm(y_test - y_test_weighted)/(m*(1-ratio_train))"
   ]
  },
  {
   "cell_type": "code",
   "execution_count": 68,
   "metadata": {},
   "outputs": [
    {
     "output_type": "stream",
     "name": "stdout",
     "text": [
      "0.00016742487403485537\n0.00032334397830077483\n"
     ]
    }
   ],
   "source": [
    "print(error_train_weighted)\n",
    "print(error_test_weighted)"
   ]
  },
  {
   "cell_type": "code",
   "execution_count": null,
   "metadata": {},
   "outputs": [],
   "source": []
  }
 ],
 "metadata": {
  "kernelspec": {
   "name": "python385jvsc74a57bd07ac5c24e02f6a8832496ecca29b7c43ee29c65657a2960576885920670584734",
   "display_name": "Python 3.8.5 64-bit ('base': conda)"
  },
  "language_info": {
   "codemirror_mode": {
    "name": "ipython",
    "version": 3
   },
   "file_extension": ".py",
   "mimetype": "text/x-python",
   "name": "python",
   "nbconvert_exporter": "python",
   "pygments_lexer": "ipython3",
   "version": "3.8.5"
  }
 },
 "nbformat": 4,
 "nbformat_minor": 4
}