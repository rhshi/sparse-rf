{
 "metadata": {
  "language_info": {
   "codemirror_mode": {
    "name": "ipython",
    "version": 3
   },
   "file_extension": ".py",
   "mimetype": "text/x-python",
   "name": "python",
   "nbconvert_exporter": "python",
   "pygments_lexer": "ipython3",
   "version": "3.8.5"
  },
  "orig_nbformat": 2,
  "kernelspec": {
   "name": "python385jvsc74a57bd07ac5c24e02f6a8832496ecca29b7c43ee29c65657a2960576885920670584734",
   "display_name": "Python 3.8.5 64-bit ('base': conda)"
  }
 },
 "nbformat": 4,
 "nbformat_minor": 2,
 "cells": [
  {
   "cell_type": "code",
   "execution_count": 14,
   "metadata": {},
   "outputs": [],
   "source": [
    "import numpy as np \n",
    "import matplotlib.pyplot as plt \n",
    "import gc\n",
    "from sparse_rf.algs.core import min_wl2, min_l2, min_l1\n",
    "from sparse_rf.modules import make_X, make_W, make_A\n",
    "from sparse_rf.util import *\n",
    "from sparse_rf.util.fns import *"
   ]
  },
  {
   "cell_type": "code",
   "execution_count": 15,
   "metadata": {},
   "outputs": [],
   "source": [
    "m = 1000\n",
    "d = 100\n",
    "q = 2\n",
    "N = 10000\n",
    "active = fourier\n",
    "\n",
    "ratio_train = 0.7"
   ]
  },
  {
   "cell_type": "code",
   "execution_count": 16,
   "metadata": {},
   "outputs": [],
   "source": [
    "X = make_X(d, m, dist=uniform)\n",
    "X_train = X[:int(m*ratio_train), :]\n",
    "X_test = X[int(m*ratio_train):, :]"
   ]
  },
  {
   "cell_type": "code",
   "execution_count": 17,
   "metadata": {},
   "outputs": [],
   "source": [
    "y = (1+np.linalg.norm(X, axis=-1))**(-0.5)\n",
    "y_train = y[:int(m*ratio_train)]\n",
    "y_test = y[int(m*ratio_train):]"
   ]
  },
  {
   "cell_type": "code",
   "execution_count": 18,
   "metadata": {},
   "outputs": [
    {
     "output_type": "stream",
     "name": "stderr",
     "text": [
      "Linesearch failed with error 1. Damping max BB scaling to 10000.0\n",
      "Linesearch failed with error 1. Damping max BB scaling to 1000.0\n",
      "Linesearch failed with error 1. Damping max BB scaling to 100.0\n",
      "Linesearch failed with error 1. Damping max BB scaling to 10.0\n",
      "Linesearch failed with error 1. Damping max BB scaling to 1.0\n",
      "Linesearch failed with error 1. Damping max BB scaling to 0.1\n",
      "Linesearch failed with error 1. Damping max BB scaling to 0.01\n",
      "Linesearch failed with error 1. Damping max BB scaling to 0.001\n",
      "Linesearch failed with error 1. Damping max BB scaling to 0.0001\n",
      "Linesearch failed with error 1. Damping max BB scaling to 10000.0\n",
      "Linesearch failed with error 1. Damping max BB scaling to 1000.0\n",
      "Linesearch failed with error 1. Damping max BB scaling to 100.0\n",
      "Linesearch failed with error 1. Damping max BB scaling to 10.0\n",
      "Linesearch failed with error 1. Damping max BB scaling to 1.0\n",
      "Linesearch failed with error 1. Damping max BB scaling to 0.1\n",
      "Linesearch failed with error 1. Damping max BB scaling to 0.01\n",
      "Linesearch failed with error 1. Damping max BB scaling to 0.001\n",
      "Linesearch failed with error 1. Damping max BB scaling to 0.0001\n",
      "Linesearch failed with error 1. Damping max BB scaling to 10000.0\n",
      "Linesearch failed with error 1. Damping max BB scaling to 1000.0\n",
      "Linesearch failed with error 1. Damping max BB scaling to 100.0\n",
      "Linesearch failed with error 1. Damping max BB scaling to 10.0\n",
      "Linesearch failed with error 1. Damping max BB scaling to 1.0\n",
      "Linesearch failed with error 1. Damping max BB scaling to 0.1\n",
      "Linesearch failed with error 1. Damping max BB scaling to 0.01\n",
      "Linesearch failed with error 1. Damping max BB scaling to 0.001\n",
      "Linesearch failed with error 1. Damping max BB scaling to 0.0001\n",
      "Linesearch failed with error 1. Damping max BB scaling to 10000.0\n",
      "Linesearch failed with error 1. Damping max BB scaling to 1000.0\n",
      "Linesearch failed with error 1. Damping max BB scaling to 100.0\n",
      "Linesearch failed with error 1. Damping max BB scaling to 10.0\n",
      "Linesearch failed with error 1. Damping max BB scaling to 1.0\n",
      "Linesearch failed with error 1. Damping max BB scaling to 0.1\n",
      "Linesearch failed with error 1. Damping max BB scaling to 0.01\n",
      "Linesearch failed with error 1. Damping max BB scaling to 0.001\n",
      "Linesearch failed with error 1. Damping max BB scaling to 0.0001\n"
     ]
    }
   ],
   "source": [
    "res_l2_dense = []\n",
    "res_l2_sparse = []\n",
    "res_l1_dense = []\n",
    "res_l1_sparse = []\n",
    "for _ in range(5):\n",
    "\n",
    "    W_dense = make_W(d, d, N=10000, dist=normal)\n",
    "    A_train_dense = make_A(X_train, W_dense, active=active)\n",
    "    A_test_dense = make_A(X_test, W_dense, active=active)\n",
    "\n",
    "    W_sparse = make_W(d, q, N=10000, dist=normal)\n",
    "    A_train_sparse = make_A(X_train, W_sparse, active=active)\n",
    "    A_test_sparse = make_A(X_test, W_sparse, active=active)\n",
    "\n",
    "    c_l2_dense = min_l2(A_train_dense, y_train)\n",
    "    c_l2_sparse = min_l2(A_train_sparse, y_train)\n",
    "    c_l1_dense = min_l1(A_train_dense, y_train)\n",
    "    c_l1_sparse = min_l1(A_train_sparse, y_train)\n",
    "\n",
    "    res_l2_dense.append(np.linalg.norm(A_test_dense@c_l2_dense-y_test)**2 / len(y_test))\n",
    "    res_l2_sparse.append(np.linalg.norm(A_test_sparse@c_l2_sparse-y_test)**2 / len(y_test))\n",
    "    res_l1_dense.append(np.linalg.norm(A_test_dense@c_l1_dense-y_test)**2 / len(y_test))\n",
    "    res_l1_sparse.append(np.linalg.norm(A_test_sparse@c_l1_sparse-y_test)**2 / len(y_test))\n",
    "\n",
    "    del W_dense\n",
    "    del A_train_dense\n",
    "    del A_test_dense\n",
    "    del W_sparse\n",
    "    del A_train_sparse\n",
    "    del A_test_sparse\n",
    "    del c_l2_dense\n",
    "    del c_l2_sparse\n",
    "    del c_l1_dense\n",
    "    del c_l1_sparse\n",
    "\n",
    "    gc.collect()\n",
    "\n"
   ]
  },
  {
   "cell_type": "code",
   "execution_count": 19,
   "metadata": {},
   "outputs": [
    {
     "output_type": "stream",
     "name": "stdout",
     "text": [
      "0.1509568904532506\n"
     ]
    }
   ],
   "source": [
    "print(np.mean(res_l2_dense))"
   ]
  },
  {
   "cell_type": "code",
   "execution_count": 20,
   "metadata": {},
   "outputs": [
    {
     "output_type": "stream",
     "name": "stdout",
     "text": [
      "1.191140621523801e-06\n"
     ]
    }
   ],
   "source": [
    "print(np.mean(res_l2_sparse))"
   ]
  },
  {
   "cell_type": "code",
   "execution_count": 21,
   "metadata": {},
   "outputs": [
    {
     "output_type": "stream",
     "name": "stdout",
     "text": [
      "0.1878544157144238\n"
     ]
    }
   ],
   "source": [
    "print(np.mean(res_l1_dense))"
   ]
  },
  {
   "cell_type": "code",
   "execution_count": 22,
   "metadata": {},
   "outputs": [
    {
     "output_type": "stream",
     "name": "stdout",
     "text": [
      "6.790314181138917e-06\n"
     ]
    }
   ],
   "source": [
    "print(np.mean(res_l1_sparse))"
   ]
  },
  {
   "cell_type": "code",
   "execution_count": null,
   "metadata": {},
   "outputs": [],
   "source": []
  }
 ]
}